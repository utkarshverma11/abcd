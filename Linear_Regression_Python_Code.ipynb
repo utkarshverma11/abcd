{
  "nbformat": 4,
  "nbformat_minor": 0,
  "metadata": {
    "colab": {
      "name": "Linear Regression_Python Code.ipynb",
      "provenance": [],
      "collapsed_sections": [],
      "include_colab_link": true
    },
    "kernelspec": {
      "name": "python3",
      "display_name": "Python 3"
    },
    "language_info": {
      "name": "python"
    }
  },
  "cells": [
    {
      "cell_type": "markdown",
      "metadata": {
        "id": "view-in-github",
        "colab_type": "text"
      },
      "source": [
        "<a href=\"https://colab.research.google.com/github/utkarshverma11/abcd/blob/master/Linear_Regression_Python_Code.ipynb\" target=\"_parent\"><img src=\"https://colab.research.google.com/assets/colab-badge.svg\" alt=\"Open In Colab\"/></a>"
      ]
    },
    {
      "cell_type": "markdown",
      "metadata": {
        "id": "mC7_x8hoYxdc"
      },
      "source": [
        "#**Let's start the code**"
      ]
    },
    {
      "cell_type": "markdown",
      "metadata": {
        "id": "BEEn9e0KY5By"
      },
      "source": [
        "Importing all the libraries"
      ]
    },
    {
      "cell_type": "code",
      "metadata": {
        "id": "wZ-1wWcfV2nH"
      },
      "source": [
        "import numpy as np\n",
        "import pandas as pd\n",
        "import matplotlib.pyplot as plt"
      ],
      "execution_count": null,
      "outputs": []
    },
    {
      "cell_type": "markdown",
      "metadata": {
        "id": "xHjdTxCGr9do"
      },
      "source": [
        "Import the data"
      ]
    },
    {
      "cell_type": "code",
      "metadata": {
        "id": "Xt5MqkQNr_kn"
      },
      "source": [
        "data = pd.read_csv('weight-height.csv')"
      ],
      "execution_count": null,
      "outputs": []
    },
    {
      "cell_type": "markdown",
      "metadata": {
        "id": "bsXIW0-esLdG"
      },
      "source": [
        "To know more about the data"
      ]
    },
    {
      "cell_type": "code",
      "metadata": {
        "id": "irYkbvaRsNpV"
      },
      "source": [
        "# To check the shape\n",
        "print(data.shape)\n",
        "\n",
        "# To check the head\n",
        "data.head(2)"
      ],
      "execution_count": null,
      "outputs": []
    },
    {
      "cell_type": "markdown",
      "metadata": {
        "id": "nYD40jOnsq9W"
      },
      "source": [
        "Lets create the X and Y values"
      ]
    },
    {
      "cell_type": "code",
      "metadata": {
        "id": "KEo6v_Frsu29"
      },
      "source": [
        "# Creating the x value\n",
        "x = data['Height'].values\n",
        "\n",
        "# Creating the Y value\n",
        "y = data['Weight'].values"
      ],
      "execution_count": null,
      "outputs": []
    },
    {
      "cell_type": "markdown",
      "metadata": {
        "id": "Lzr8IH_vtROm"
      },
      "source": [
        "Lets plot the data"
      ]
    },
    {
      "cell_type": "code",
      "metadata": {
        "id": "jufyIe69tVKs"
      },
      "source": [
        "plt.scatter(x,y, color='orange')\n",
        "\n",
        "plt.show()"
      ],
      "execution_count": null,
      "outputs": []
    },
    {
      "cell_type": "markdown",
      "metadata": {
        "id": "R_OjW-aktoBG"
      },
      "source": [
        "Lets find the M and C value"
      ]
    },
    {
      "cell_type": "code",
      "metadata": {
        "id": "31kI9n_atsGH"
      },
      "source": [
        "# Mean of X and Y value\n",
        "mean_x = np.mean(x)\n",
        "mean_y = np.mean(y)\n",
        "\n",
        "# To check the mean\n",
        "# print(mean_x, mean_y)\n",
        "\n",
        "# To get the total number of values\n",
        "n = len(x)\n",
        "\n",
        "# Using for loop to get the M value\n",
        "num1 = 0 \n",
        "# E(x-x|)(y-y|)\n",
        "din1 = 0\n",
        "# E(x-x|)^2\n",
        "\n",
        "for i in range(n):\n",
        "  num1 += (x[i]-mean_x)*(y[i]-mean_y)\n",
        "  din1 += (x[i]-mean_x)**2\n",
        "# To get the M value\n",
        "m = (num1/din1)\n",
        "\n",
        "# Lets get C value\n",
        "c = mean_y - (m*mean_x)\n",
        "\n",
        "# Print M and C\n",
        "\n",
        "print(m, c)"
      ],
      "execution_count": null,
      "outputs": []
    },
    {
      "cell_type": "markdown",
      "metadata": {
        "id": "oKfoz8uBwzAa"
      },
      "source": [
        "Lets plot this is a graph"
      ]
    },
    {
      "cell_type": "code",
      "metadata": {
        "id": "v99-xrjfw1vV"
      },
      "source": [
        "# Increasing the size of the plot\n",
        "plt.figure(figsize=(5,3), dpi=200)\n",
        "# Scatter plot\n",
        "plt.scatter(x,y, color='orange', label='Actual Value')\n",
        "\n",
        "# LR plot. This is a capital Y\n",
        "Y = c + (m*x)\n",
        "\n",
        "plt.plot(x, Y, color='blue', label='LR')\n",
        "\n",
        "plt.xlabel('X Values')\n",
        "plt.ylabel('Y Values')\n",
        "plt.legend()\n",
        "plt.show()"
      ],
      "execution_count": null,
      "outputs": []
    },
    {
      "cell_type": "markdown",
      "metadata": {
        "id": "In3eqCKrycfH"
      },
      "source": [
        "How accurate our model is using R^2"
      ]
    },
    {
      "cell_type": "code",
      "metadata": {
        "id": "ceX0I8w5yh3X"
      },
      "source": [
        "# Lets look at the details\n",
        "num2 = 0\n",
        "# E(Yp-Y|)^2\n",
        "din2 = 0\n",
        "# E(Y-Y|)^2\n",
        "\n",
        "# Lets start the for Loop\n",
        "for i in range(n):\n",
        "  y_pred = (m*x[i]) + c\n",
        "  num2 += (y_pred - mean_y)**2\n",
        "  din2 += (y[i] - mean_y)**2\n",
        "\n",
        "error = 1 - (num2/din2)\n",
        "\n",
        "print(error)"
      ],
      "execution_count": null,
      "outputs": []
    },
    {
      "cell_type": "markdown",
      "metadata": {
        "id": "j6sL5hSTPJnP"
      },
      "source": [
        "Other dataset links:\n",
        "\n",
        "1) Cricker_Chirp and temperature \n",
        "https://www.kaggle.com/hershyandrew/cricket-chirp-vs-temperature\n",
        "\n",
        "2) Salary Data\n",
        "\n",
        "https://www.kaggle.com/karthickveerakumar/salary-data-simple-linear-regression\n",
        "\n",
        "3) Simple Linear Regression\n",
        "\n",
        "https://www.kaggle.com/andonians/random-linear-regression\n"
      ]
    }
  ]
}